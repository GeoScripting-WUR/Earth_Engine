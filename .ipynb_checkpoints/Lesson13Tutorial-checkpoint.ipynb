{
 "cells": [
  {
   "cell_type": "code",
   "execution_count": 5,
   "metadata": {},
   "outputs": [
    {
     "name": "stdout",
     "output_type": "stream",
     "text": [
      "{u'bands': [{u'crs': u'EPSG:4326', u'crs_transform': [0.000833333333333, 0.0, -180.0, 0.0, -0.000833333333333, 60.0], u'id': u'elevation', u'data_type': {u'max': 32767, u'type': u'PixelType', u'precision': u'int', u'min': -32768}, u'dimensions': [432000, 144000]}], u'version': 1494271934303000, u'type': u'Image', u'id': u'srtm90_v4', u'properties': {u'system:time_end': 951177600000, u'system:asset_size': 18827626666, u'system:time_start': 950227200000}}\n"
     ]
    }
   ],
   "source": [
    "# Import the Earth Engine Python Package\n",
    "import ee\n",
    "\n",
    "# Initialize the Earth Engine object, using the authentication credentials.\n",
    "ee.Initialize()\n",
    "\n",
    "# Print the information for an image asset.\n",
    "image = ee.Image('srtm90_v4')\n",
    "print(image.getInfo())"
   ]
  },
  {
   "cell_type": "code",
   "execution_count": 25,
   "metadata": {},
   "outputs": [
    {
     "name": "stdout",
     "output_type": "stream",
     "text": [
      "about to build video\n",
      "Process sent to cloud\n"
     ]
    }
   ],
   "source": [
    "import ee\n",
    "from ee import batch\n",
    "\n",
    "## Initialize connection to server\n",
    "ee.Initialize()\n",
    "\n",
    "## Define your image collection \n",
    "collection = ee.ImageCollection('LANDSAT/LC8_L1T_TOA')\n",
    "\n",
    "## Define time range\n",
    "collection_time = collection.filterDate('2013-04-11', '2018-01-01') #YYYY-MM-DD\n",
    "\n",
    "## Select location based on location of tile\n",
    "path = collection_time.filter(ee.Filter.eq('WRS_PATH', 198))\n",
    "pathrow = path.filter(ee.Filter.eq('WRS_ROW', 24))\n",
    "# or via geographical location:\n",
    "#point_geom = ee.Geometry.Point(5, 52) #longitude, latitude\n",
    "#pathrow = collection_time.filterBounds(point_geom)\n",
    "\n",
    "## Select imagery with less then 5% of image covered by clouds\n",
    "clouds = pathrow.filter(ee.Filter.lt('CLOUD_COVER', 5))\n",
    "\n",
    "## Select bands\n",
    "bands = clouds.select(['B4', 'B3', 'B2'])\n",
    "\n",
    "## Make 8 bit data\n",
    "def convertBit(image):\n",
    "    return image.multiply(512).uint8()  \n",
    "\n",
    "## Convert bands to output video  \n",
    "outputVideo = bands.map(convertBit)\n",
    "\n",
    "print \"Starting to create a video\"\n",
    "\n",
    "## Export video to Google Drive\n",
    "out = batch.Export.video.toDrive(outputVideo, description='Netherlands_video_region_L8_time', dimensions = 720, framesPerSecond = 2, region=([5.588144,51.993435], [5.727906, 51.993435],[5.727906, 51.944356],[5.588144, 51.944356]), maxFrames=10000)\n",
    "\n",
    "## Process the image\n",
    "process = batch.Task.start(out)\n",
    "\n",
    "print \"Process sent to cloud\""
   ]
  },
  {
   "cell_type": "code",
   "execution_count": 13,
   "metadata": {},
   "outputs": [],
   "source": [
    "import ee\n",
    "from ee import batch\n",
    "\n",
    "## Initialize (a ee python thing)\n",
    "ee.Initialize()\n",
    "\n",
    "## define your collection\n",
    "collection = ee.ImageCollection('LANDSAT/LE07/C01/T1_TOA')"
   ]
  },
  {
   "cell_type": "code",
   "execution_count": 4,
   "metadata": {},
   "outputs": [
    {
     "name": "stdout",
     "output_type": "stream",
     "text": [
      "2.7.14\n"
     ]
    }
   ],
   "source": [
    "import platform\n",
    "print(platform.python_version())"
   ]
  },
  {
   "cell_type": "code",
   "execution_count": 32,
   "metadata": {},
   "outputs": [
    {
     "name": "stdout",
     "output_type": "stream",
     "text": [
      "None\n"
     ]
    }
   ],
   "source": [
    "print process"
   ]
  },
  {
   "cell_type": "code",
   "execution_count": 16,
   "metadata": {},
   "outputs": [
    {
     "data": {
      "text/plain": [
       "<ee.imagecollection.ImageCollection at 0x7f64f37f5190>"
      ]
     },
     "execution_count": 16,
     "metadata": {},
     "output_type": "execute_result"
    }
   ],
   "source": [
    "path = collection.filter(ee.Filter.eq('WRS_PATH', 198))\n",
    "path"
   ]
  },
  {
   "cell_type": "code",
   "execution_count": 17,
   "metadata": {
    "collapsed": true
   },
   "outputs": [],
   "source": [
    "pathrow = path.filter(ee.Filter.eq('WRS_ROW', 24))\n",
    " \n",
    "##Filter cloudy scenes.\n",
    "clouds = pathrow.filter(ee.Filter.lt('CLOUD_COVER', 25))"
   ]
  },
  {
   "cell_type": "code",
   "execution_count": 18,
   "metadata": {},
   "outputs": [
    {
     "data": {
      "text/plain": [
       "<ee.imagecollection.ImageCollection at 0x7f64f37f5350>"
      ]
     },
     "execution_count": 18,
     "metadata": {},
     "output_type": "execute_result"
    }
   ],
   "source": [
    "clouds"
   ]
  },
  {
   "cell_type": "code",
   "execution_count": 19,
   "metadata": {
    "collapsed": true
   },
   "outputs": [],
   "source": [
    "bands = clouds.select(['B3', 'B2', 'B1'])"
   ]
  },
  {
   "cell_type": "code",
   "execution_count": null,
   "metadata": {
    "collapsed": true
   },
   "outputs": [],
   "source": []
  }
 ],
 "metadata": {
  "kernelspec": {
   "display_name": "Python 2",
   "language": "python",
   "name": "python2"
  },
  "language_info": {
   "codemirror_mode": {
    "name": "ipython",
    "version": 2
   },
   "file_extension": ".py",
   "mimetype": "text/x-python",
   "name": "python",
   "nbconvert_exporter": "python",
   "pygments_lexer": "ipython2",
   "version": "2.7.14"
  }
 },
 "nbformat": 4,
 "nbformat_minor": 2
}
